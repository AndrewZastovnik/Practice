{
 "cells": [
  {
   "cell_type": "markdown",
   "metadata": {},
   "source": [
    "# Home Loans Practice\n",
    "### Data exploration"
   ]
  },
  {
   "cell_type": "code",
   "execution_count": 1,
   "metadata": {
    "collapsed": true
   },
   "outputs": [],
   "source": [
    "%matplotlib inline\n",
    "\n",
    "import pandas as pd\n",
    "import numpy as np\n",
    "import matplotlib.pyplot as plt\n",
    "import sklearn as sk"
   ]
  },
  {
   "cell_type": "code",
   "execution_count": 2,
   "metadata": {
    "collapsed": false,
    "scrolled": false
   },
   "outputs": [],
   "source": [
    "test = pd.read_csv(\"C:\\\\Users\\\\Andrew\\\\Documents\\\\Practice\\\\Home Loans\\\\application_test.csv\")\n",
    "train = pd.read_csv(\"C:\\\\Users\\\\Andrew\\\\Documents\\\\Practice\\\\Home Loans\\\\application_train.csv\")\n",
    "bureau = pd.read_csv(\"C:\\\\Users\\\\Andrew\\\\Documents\\\\Practice\\\\Home Loans\\\\bureau.csv\")\n",
    "bureau_balance = pd.read_csv(\"C:\\\\Users\\\\Andrew\\\\Documents\\\\Practice\\\\Home Loans\\\\bureau_balance.csv\")\n",
    "POS_CASH_balance = pd.read_csv(\"C:\\\\Users\\\\Andrew\\\\Documents\\\\Practice\\\\Home Loans\\\\POS_CASH_balance.csv\")\n",
    "credit_card_balance = pd.read_csv(\"C:\\\\Users\\\\Andrew\\\\Documents\\\\Practice\\\\Home Loans\\\\credit_card_balance.csv\")\n",
    "previous_application = pd.read_csv(\"C:\\\\Users\\\\Andrew\\\\Documents\\\\Practice\\\\Home Loans\\\\previous_application.csv\")\n",
    "installments_payments = pd.read_csv(\"C:\\\\Users\\\\Andrew\\\\Documents\\\\Practice\\\\Home Loans\\\\installments_payments.csv\")"
   ]
  },
  {
   "cell_type": "code",
   "execution_count": 3,
   "metadata": {
    "collapsed": false
   },
   "outputs": [
    {
     "name": "stdout",
     "output_type": "stream",
     "text": [
      "THere are 24825 loans in trouble and 282686 Loan that are not.\n"
     ]
    }
   ],
   "source": [
    "print(\"THere are \" + str(np.sum(train.TARGET == 1)) +\" loans in trouble and \" +str(np.sum(train.TARGET == 0)) + \" Loan that are not.\")"
   ]
  },
  {
   "cell_type": "markdown",
   "metadata": {},
   "source": [
    "Lets look at the first row of the training dataset"
   ]
  },
  {
   "cell_type": "code",
   "execution_count": 5,
   "metadata": {
    "collapsed": false
   },
   "outputs": [
    {
     "data": {
      "text/plain": [
       "SK_ID_CURR                                           100002\n",
       "TARGET                                                    1\n",
       "NAME_CONTRACT_TYPE                               Cash loans\n",
       "CODE_GENDER                                               M\n",
       "FLAG_OWN_CAR                                              N\n",
       "FLAG_OWN_REALTY                                           Y\n",
       "CNT_CHILDREN                                              0\n",
       "AMT_INCOME_TOTAL                                     202500\n",
       "AMT_CREDIT                                           406598\n",
       "AMT_ANNUITY                                         24700.5\n",
       "AMT_GOODS_PRICE                                      351000\n",
       "NAME_TYPE_SUITE                               Unaccompanied\n",
       "NAME_INCOME_TYPE                                    Working\n",
       "NAME_EDUCATION_TYPE           Secondary / secondary special\n",
       "NAME_FAMILY_STATUS                     Single / not married\n",
       "NAME_HOUSING_TYPE                         House / apartment\n",
       "REGION_POPULATION_RELATIVE                         0.018801\n",
       "DAYS_BIRTH                                            -9461\n",
       "DAYS_EMPLOYED                                          -637\n",
       "DAYS_REGISTRATION                                     -3648\n",
       "DAYS_ID_PUBLISH                                       -2120\n",
       "OWN_CAR_AGE                                             NaN\n",
       "FLAG_MOBIL                                                1\n",
       "FLAG_EMP_PHONE                                            1\n",
       "FLAG_WORK_PHONE                                           0\n",
       "FLAG_CONT_MOBILE                                          1\n",
       "FLAG_PHONE                                                1\n",
       "FLAG_EMAIL                                                0\n",
       "OCCUPATION_TYPE                                    Laborers\n",
       "CNT_FAM_MEMBERS                                           1\n",
       "                                          ...              \n",
       "DEF_30_CNT_SOCIAL_CIRCLE                                  2\n",
       "OBS_60_CNT_SOCIAL_CIRCLE                                  2\n",
       "DEF_60_CNT_SOCIAL_CIRCLE                                  2\n",
       "DAYS_LAST_PHONE_CHANGE                                -1134\n",
       "FLAG_DOCUMENT_2                                           0\n",
       "FLAG_DOCUMENT_3                                           1\n",
       "FLAG_DOCUMENT_4                                           0\n",
       "FLAG_DOCUMENT_5                                           0\n",
       "FLAG_DOCUMENT_6                                           0\n",
       "FLAG_DOCUMENT_7                                           0\n",
       "FLAG_DOCUMENT_8                                           0\n",
       "FLAG_DOCUMENT_9                                           0\n",
       "FLAG_DOCUMENT_10                                          0\n",
       "FLAG_DOCUMENT_11                                          0\n",
       "FLAG_DOCUMENT_12                                          0\n",
       "FLAG_DOCUMENT_13                                          0\n",
       "FLAG_DOCUMENT_14                                          0\n",
       "FLAG_DOCUMENT_15                                          0\n",
       "FLAG_DOCUMENT_16                                          0\n",
       "FLAG_DOCUMENT_17                                          0\n",
       "FLAG_DOCUMENT_18                                          0\n",
       "FLAG_DOCUMENT_19                                          0\n",
       "FLAG_DOCUMENT_20                                          0\n",
       "FLAG_DOCUMENT_21                                          0\n",
       "AMT_REQ_CREDIT_BUREAU_HOUR                                0\n",
       "AMT_REQ_CREDIT_BUREAU_DAY                                 0\n",
       "AMT_REQ_CREDIT_BUREAU_WEEK                                0\n",
       "AMT_REQ_CREDIT_BUREAU_MON                                 0\n",
       "AMT_REQ_CREDIT_BUREAU_QRT                                 0\n",
       "AMT_REQ_CREDIT_BUREAU_YEAR                                1\n",
       "Name: 0, dtype: object"
      ]
     },
     "execution_count": 5,
     "metadata": {},
     "output_type": "execute_result"
    }
   ],
   "source": [
    "train.iloc[0]"
   ]
  },
  {
   "cell_type": "code",
   "execution_count": 12,
   "metadata": {
    "collapsed": false
   },
   "outputs": [
    {
     "data": {
      "text/plain": [
       "(307511, 122)"
      ]
     },
     "execution_count": 12,
     "metadata": {},
     "output_type": "execute_result"
    }
   ],
   "source": [
    "train.shape"
   ]
  },
  {
   "cell_type": "markdown",
   "metadata": {},
   "source": [
    "So there are 122 columns in this dataset. Let's take a look at a few of them and see if anything pops out.\n",
    "First lets look at the number of children each person recieving a loan has."
   ]
  },
  {
   "cell_type": "code",
   "execution_count": 17,
   "metadata": {
    "collapsed": false
   },
   "outputs": [
    {
     "data": {
      "image/png": "[encoded data removed]",
      "text/plain": [
       "<matplotlib.figure.Figure at 0x23182e08358>"
      ]
     },
     "metadata": {},
     "output_type": "display_data"
    }
   ],
   "source": [
    "plt.figure(figsize = (15,8))\n",
    "plt.hist(train['CNT_CHILDREN'],bins=100,facecolor='dodgerblue')\n",
    "plt.show()"
   ]
  },
  {
   "cell_type": "markdown",
   "metadata": {},
   "source": [
    "Here we can see that the majority of people getting loans have no children while a decent amount have 1 or 2 children. Not a lot of variablity but let's take a look at how this relates to our target variable."
   ]
  },
  {
   "cell_type": "code",
   "execution_count": 30,
   "metadata": {
    "collapsed": false
   },
   "outputs": [
    {
     "name": "stdout",
     "output_type": "stream",
     "text": [
      "0     0.669043\n",
      "1     0.219698\n",
      "2     0.093978\n",
      "3     0.014421\n",
      "4     0.002216\n",
      "5     0.000282\n",
      "6     0.000242\n",
      "9     0.000081\n",
      "11    0.000040\n",
      "Name: CNT_CHILDREN, dtype: float64\n",
      "0     0.703119\n",
      "1     0.196915\n",
      "2     0.086371\n",
      "3     0.011882\n",
      "4     0.001323\n",
      "5     0.000272\n",
      "6     0.000053\n",
      "7     0.000025\n",
      "14    0.000011\n",
      "19    0.000007\n",
      "12    0.000007\n",
      "10    0.000007\n",
      "8     0.000007\n",
      "Name: CNT_CHILDREN, dtype: float64\n"
     ]
    }
   ],
   "source": [
    "print(train.loc[train.TARGET == 1]['CNT_CHILDREN'].value_counts(normalize=True))\n",
    "print(train.loc[train.TARGET == 0]['CNT_CHILDREN'].value_counts(normalize=True))"
   ]
  },
  {
   "cell_type": "markdown",
   "metadata": {},
   "source": [
    "Lets take a look at occupation type"
   ]
  },
  {
   "cell_type": "code",
   "execution_count": 11,
   "metadata": {
    "collapsed": false
   },
   "outputs": [
    {
     "name": "stdout",
     "output_type": "stream",
     "text": [
      "OCCUPATION_TYPE\n",
      "Accountants               474\n",
      "Cleaning staff            447\n",
      "Cooking staff             621\n",
      "Core staff               1738\n",
      "Drivers                  2107\n",
      "HR staff                   36\n",
      "High skill tech staff     701\n",
      "IT staff                   34\n",
      "Laborers                 5838\n",
      "Low-skill Laborers        359\n",
      "Managers                 1328\n",
      "Medicine staff            572\n",
      "Private service staff     175\n",
      "Realty agents              59\n",
      "Sales staff              3092\n",
      "Secretaries                92\n",
      "Security staff            722\n",
      "Waiters/barmen staff      152\n",
      "Name: SK_ID_CURR, dtype: int64\n",
      "OCCUPATION_TYPE\n",
      "Accountants               9339\n",
      "Cleaning staff            4206\n",
      "Cooking staff             5325\n",
      "Core staff               25832\n",
      "Drivers                  16496\n",
      "HR staff                   527\n",
      "High skill tech staff    10679\n",
      "IT staff                   492\n",
      "Laborers                 49348\n",
      "Low-skill Laborers        1734\n",
      "Managers                 20043\n",
      "Medicine staff            7965\n",
      "Private service staff     2477\n",
      "Realty agents              692\n",
      "Sales staff              29010\n",
      "Secretaries               1213\n",
      "Security staff            5999\n",
      "Waiters/barmen staff      1196\n",
      "Name: SK_ID_CURR, dtype: int64\n"
     ]
    }
   ],
   "source": [
    "\n",
    "print(train.loc[train.TARGET == 1].groupby('OCCUPATION_TYPE').SK_ID_CURR.nunique())\n",
    "print(train.loc[train.TARGET == 0].groupby('OCCUPATION_TYPE').SK_ID_CURR.nunique())"
   ]
  },
  {
   "cell_type": "markdown",
   "metadata": {},
   "source": [
    "I really am not sure what I am doing here."
   ]
  },
  {
   "cell_type": "code",
   "execution_count": 4,
   "metadata": {
    "collapsed": false
   },
   "outputs": [],
   "source": [
    "mask = np.random.permutation(train.shape[0])\n",
    "train1 = train.iloc[mask[0:int(train.shape[0]*.8)]].copy()\n",
    "test1 = train.iloc[mask[int(train.shape[0]*.8):]].copy()"
   ]
  },
  {
   "cell_type": "code",
   "execution_count": 5,
   "metadata": {
    "collapsed": false
   },
   "outputs": [
    {
     "data": {
      "text/plain": [
       "(307511, 19)"
      ]
     },
     "execution_count": 5,
     "metadata": {},
     "output_type": "execute_result"
    }
   ],
   "source": [
    "# I wanted to add names to the columns but the first column this returns is for missing values.\n",
    "# Not sure what I should do with missing values so I'm just keeping them in shouldn't be much of a problem\n",
    "def hot_fix(column):\n",
    "        names = list(column[1])\n",
    "        column = column[0]\n",
    "        u = np.unique(column)\n",
    "        if -1 in u:\n",
    "            names = [\"nan\"] + names\n",
    "        res = np.zeros((column.shape[0],u.shape[0]))\n",
    "        for i in range(u.shape[0]):\n",
    "            res[0:,i] = column == u[i]\n",
    "        res = pd.DataFrame(res)\n",
    "        res.columns = names\n",
    "        return res\n",
    "hot_fix(train['OCCUPATION_TYPE'].factorize()).shape\n"
   ]
  },
  {
   "cell_type": "code",
   "execution_count": 6,
   "metadata": {
    "collapsed": false
   },
   "outputs": [],
   "source": [
    "# Have to reset index since the oc type didnt keep the original index and concat combines based on index apparently\n",
    "oc_type = pd.DataFrame(hot_fix(train1['OCCUPATION_TYPE'].factorize()))\n",
    "train2 = pd.concat([train1.reset_index(drop=True),oc_type],axis =1)\n",
    "oc_type2 = pd.DataFrame(hot_fix(test1['OCCUPATION_TYPE'].factorize()))\n",
    "test2 = pd.concat([test1.reset_index(drop=True),oc_type2],axis =1)"
   ]
  },
  {
   "cell_type": "code",
   "execution_count": 7,
   "metadata": {
    "collapsed": false
   },
   "outputs": [],
   "source": [
    "factors = ['CNT_CHILDREN'] + list(oc_type.columns)"
   ]
  },
  {
   "cell_type": "code",
   "execution_count": 12,
   "metadata": {
    "collapsed": false
   },
   "outputs": [],
   "source": [
    "from sklearn.tree import DecisionTreeRegressor\n",
    "regr_1 = DecisionTreeRegressor(max_depth=10)\n",
    "regr_1.fit(train2[factors], train2['TARGET'])\n",
    "y_ = regr_1.predict(test2[factors])"
   ]
  },
  {
   "cell_type": "code",
   "execution_count": 13,
   "metadata": {
    "collapsed": false
   },
   "outputs": [
    {
     "data": {
      "image/png": "[encoded data removed]",
      "text/plain": [
       "<matplotlib.figure.Figure at 0x11911748c50>"
      ]
     },
     "metadata": {},
     "output_type": "display_data"
    },
    {
     "name": "stdout",
     "output_type": "stream",
     "text": [
      "AUC: 0.572103546022\n"
     ]
    }
   ],
   "source": [
    "plt.figure()\n",
    "plt.scatter(y_,test1['TARGET'],s=1, alpha = 0.1,color=\"dodgerblue\")\n",
    "plt.show()\n",
    "print(\"AUC:\",sk.metrics.roc_auc_score(test1['TARGET'],y_))"
   ]
  },
  {
   "cell_type": "code",
   "execution_count": 15,
   "metadata": {
    "collapsed": false
   },
   "outputs": [],
   "source": [
    "from sklearn.tree import DecisionTreeClassifier\n",
    "regr_1 = DecisionTreeClassifier(max_depth=10)\n",
    "regr_1.fit(train2[factors], train2['TARGET'])\n",
    "y_ = regr_1.predict(test2[factors])\n",
    "y_prob = regr_1.predict_proba(test2[factors])"
   ]
  },
  {
   "cell_type": "code",
   "execution_count": 20,
   "metadata": {
    "collapsed": false
   },
   "outputs": [
    {
     "name": "stdout",
     "output_type": "stream",
     "text": [
      "AUC: 0.572103546022\n"
     ]
    }
   ],
   "source": [
    "print(\"AUC:\",sk.metrics.roc_auc_score(test1['TARGET'],y_prob[0:,1]))"
   ]
  },
  {
   "cell_type": "code",
   "execution_count": 18,
   "metadata": {
    "collapsed": false
   },
   "outputs": [
    {
     "data": {
      "text/plain": [
       "array([[ 0.93809678,  0.06190322],\n",
       "       [ 0.90344079,  0.09655921],\n",
       "       [ 0.90222772,  0.09777228],\n",
       "       ..., \n",
       "       [ 0.92007245,  0.07992755],\n",
       "       [ 0.93809678,  0.06190322],\n",
       "       [ 0.90906117,  0.09093883]])"
      ]
     },
     "execution_count": 18,
     "metadata": {},
     "output_type": "execute_result"
    }
   ],
   "source": [
    "y_prob"
   ]
  },
  {
   "cell_type": "markdown",
   "metadata": {},
   "source": [
    "come up with predictions for the test dataset"
   ]
  },
  {
   "cell_type": "code",
   "execution_count": 121,
   "metadata": {
    "collapsed": true
   },
   "outputs": [],
   "source": [
    "oc_type = pd.DataFrame(hot_fix(test['OCCUPATION_TYPE'].factorize()))\n",
    "test2 = pd.concat([test.reset_index(drop=True),oc_type],axis =1)"
   ]
  },
  {
   "cell_type": "code",
   "execution_count": 123,
   "metadata": {
    "collapsed": false
   },
   "outputs": [],
   "source": [
    "y_ = regr_1.predict(test2[factors])"
   ]
  },
  {
   "cell_type": "code",
   "execution_count": 133,
   "metadata": {
    "collapsed": false
   },
   "outputs": [],
   "source": [
    "res = pd.concat([pd.DataFrame(test.SK_ID_CURR).reset_index(drop=True),pd.DataFrame(y_)],axis = 1)\n",
    "res.columns = ['SK_ID_CURR','TARGET']\n",
    "res.to_csv(\"HomeLoan1.csv\",header= True,index = False)"
   ]
  },
  {
   "cell_type": "code",
   "execution_count": 129,
   "metadata": {
    "collapsed": false
   },
   "outputs": [
    {
     "data": {
      "text/html": [
       "<div>\n",
       "<table border=\"1\" class=\"dataframe\">\n",
       "  <thead>\n",
       "    <tr style=\"text-align: right;\">\n",
       "      <th></th>\n",
       "      <th>SK_ID_CURR</th>\n",
       "      <th>TARGET</th>\n",
       "    </tr>\n",
       "  </thead>\n",
       "  <tbody>\n",
       "    <tr>\n",
       "      <th>0</th>\n",
       "      <td>100001</td>\n",
       "      <td>0.062141</td>\n",
       "    </tr>\n",
       "    <tr>\n",
       "      <th>1</th>\n",
       "      <td>100005</td>\n",
       "      <td>0.181338</td>\n",
       "    </tr>\n",
       "    <tr>\n",
       "      <th>2</th>\n",
       "      <td>100013</td>\n",
       "      <td>0.112028</td>\n",
       "    </tr>\n",
       "    <tr>\n",
       "      <th>3</th>\n",
       "      <td>100028</td>\n",
       "      <td>0.108358</td>\n",
       "    </tr>\n",
       "    <tr>\n",
       "      <th>4</th>\n",
       "      <td>100038</td>\n",
       "      <td>0.081912</td>\n",
       "    </tr>\n",
       "    <tr>\n",
       "      <th>5</th>\n",
       "      <td>100042</td>\n",
       "      <td>0.112028</td>\n",
       "    </tr>\n",
       "    <tr>\n",
       "      <th>6</th>\n",
       "      <td>100057</td>\n",
       "      <td>0.064334</td>\n",
       "    </tr>\n",
       "    <tr>\n",
       "      <th>7</th>\n",
       "      <td>100065</td>\n",
       "      <td>0.062141</td>\n",
       "    </tr>\n",
       "    <tr>\n",
       "      <th>8</th>\n",
       "      <td>100066</td>\n",
       "      <td>0.062141</td>\n",
       "    </tr>\n",
       "    <tr>\n",
       "      <th>9</th>\n",
       "      <td>100067</td>\n",
       "      <td>0.096649</td>\n",
       "    </tr>\n",
       "    <tr>\n",
       "      <th>10</th>\n",
       "      <td>100074</td>\n",
       "      <td>0.062141</td>\n",
       "    </tr>\n",
       "    <tr>\n",
       "      <th>11</th>\n",
       "      <td>100090</td>\n",
       "      <td>0.104794</td>\n",
       "    </tr>\n",
       "    <tr>\n",
       "      <th>12</th>\n",
       "      <td>100091</td>\n",
       "      <td>0.062141</td>\n",
       "    </tr>\n",
       "    <tr>\n",
       "      <th>13</th>\n",
       "      <td>100092</td>\n",
       "      <td>0.062141</td>\n",
       "    </tr>\n",
       "    <tr>\n",
       "      <th>14</th>\n",
       "      <td>100106</td>\n",
       "      <td>0.104794</td>\n",
       "    </tr>\n",
       "    <tr>\n",
       "      <th>15</th>\n",
       "      <td>100107</td>\n",
       "      <td>0.104794</td>\n",
       "    </tr>\n",
       "    <tr>\n",
       "      <th>16</th>\n",
       "      <td>100109</td>\n",
       "      <td>0.104794</td>\n",
       "    </tr>\n",
       "    <tr>\n",
       "      <th>17</th>\n",
       "      <td>100117</td>\n",
       "      <td>0.062141</td>\n",
       "    </tr>\n",
       "    <tr>\n",
       "      <th>18</th>\n",
       "      <td>100128</td>\n",
       "      <td>0.064334</td>\n",
       "    </tr>\n",
       "    <tr>\n",
       "      <th>19</th>\n",
       "      <td>100141</td>\n",
       "      <td>0.104794</td>\n",
       "    </tr>\n",
       "    <tr>\n",
       "      <th>20</th>\n",
       "      <td>100150</td>\n",
       "      <td>0.092572</td>\n",
       "    </tr>\n",
       "    <tr>\n",
       "      <th>21</th>\n",
       "      <td>100168</td>\n",
       "      <td>0.062141</td>\n",
       "    </tr>\n",
       "    <tr>\n",
       "      <th>22</th>\n",
       "      <td>100169</td>\n",
       "      <td>0.062141</td>\n",
       "    </tr>\n",
       "    <tr>\n",
       "      <th>23</th>\n",
       "      <td>100170</td>\n",
       "      <td>0.111544</td>\n",
       "    </tr>\n",
       "    <tr>\n",
       "      <th>24</th>\n",
       "      <td>100171</td>\n",
       "      <td>0.112028</td>\n",
       "    </tr>\n",
       "    <tr>\n",
       "      <th>25</th>\n",
       "      <td>100172</td>\n",
       "      <td>0.104794</td>\n",
       "    </tr>\n",
       "    <tr>\n",
       "      <th>26</th>\n",
       "      <td>100184</td>\n",
       "      <td>0.062141</td>\n",
       "    </tr>\n",
       "    <tr>\n",
       "      <th>27</th>\n",
       "      <td>100187</td>\n",
       "      <td>0.062141</td>\n",
       "    </tr>\n",
       "    <tr>\n",
       "      <th>28</th>\n",
       "      <td>100212</td>\n",
       "      <td>0.062141</td>\n",
       "    </tr>\n",
       "    <tr>\n",
       "      <th>29</th>\n",
       "      <td>100222</td>\n",
       "      <td>0.062141</td>\n",
       "    </tr>\n",
       "    <tr>\n",
       "      <th>...</th>\n",
       "      <td>...</td>\n",
       "      <td>...</td>\n",
       "    </tr>\n",
       "    <tr>\n",
       "      <th>48714</th>\n",
       "      <td>455963</td>\n",
       "      <td>0.064334</td>\n",
       "    </tr>\n",
       "    <tr>\n",
       "      <th>48715</th>\n",
       "      <td>455965</td>\n",
       "      <td>0.062141</td>\n",
       "    </tr>\n",
       "    <tr>\n",
       "      <th>48716</th>\n",
       "      <td>456007</td>\n",
       "      <td>0.112028</td>\n",
       "    </tr>\n",
       "    <tr>\n",
       "      <th>48717</th>\n",
       "      <td>456008</td>\n",
       "      <td>0.062141</td>\n",
       "    </tr>\n",
       "    <tr>\n",
       "      <th>48718</th>\n",
       "      <td>456009</td>\n",
       "      <td>0.062141</td>\n",
       "    </tr>\n",
       "    <tr>\n",
       "      <th>48719</th>\n",
       "      <td>456010</td>\n",
       "      <td>0.096649</td>\n",
       "    </tr>\n",
       "    <tr>\n",
       "      <th>48720</th>\n",
       "      <td>456011</td>\n",
       "      <td>0.096649</td>\n",
       "    </tr>\n",
       "    <tr>\n",
       "      <th>48721</th>\n",
       "      <td>456013</td>\n",
       "      <td>0.129239</td>\n",
       "    </tr>\n",
       "    <tr>\n",
       "      <th>48722</th>\n",
       "      <td>456028</td>\n",
       "      <td>0.112028</td>\n",
       "    </tr>\n",
       "    <tr>\n",
       "      <th>48723</th>\n",
       "      <td>456058</td>\n",
       "      <td>0.081912</td>\n",
       "    </tr>\n",
       "    <tr>\n",
       "      <th>48724</th>\n",
       "      <td>456111</td>\n",
       "      <td>0.111544</td>\n",
       "    </tr>\n",
       "    <tr>\n",
       "      <th>48725</th>\n",
       "      <td>456114</td>\n",
       "      <td>0.086256</td>\n",
       "    </tr>\n",
       "    <tr>\n",
       "      <th>48726</th>\n",
       "      <td>456115</td>\n",
       "      <td>0.064334</td>\n",
       "    </tr>\n",
       "    <tr>\n",
       "      <th>48727</th>\n",
       "      <td>456116</td>\n",
       "      <td>0.064334</td>\n",
       "    </tr>\n",
       "    <tr>\n",
       "      <th>48728</th>\n",
       "      <td>456119</td>\n",
       "      <td>0.062141</td>\n",
       "    </tr>\n",
       "    <tr>\n",
       "      <th>48729</th>\n",
       "      <td>456120</td>\n",
       "      <td>0.108358</td>\n",
       "    </tr>\n",
       "    <tr>\n",
       "      <th>48730</th>\n",
       "      <td>456122</td>\n",
       "      <td>0.098536</td>\n",
       "    </tr>\n",
       "    <tr>\n",
       "      <th>48731</th>\n",
       "      <td>456123</td>\n",
       "      <td>0.062141</td>\n",
       "    </tr>\n",
       "    <tr>\n",
       "      <th>48732</th>\n",
       "      <td>456166</td>\n",
       "      <td>0.092572</td>\n",
       "    </tr>\n",
       "    <tr>\n",
       "      <th>48733</th>\n",
       "      <td>456167</td>\n",
       "      <td>0.092572</td>\n",
       "    </tr>\n",
       "    <tr>\n",
       "      <th>48734</th>\n",
       "      <td>456168</td>\n",
       "      <td>0.104794</td>\n",
       "    </tr>\n",
       "    <tr>\n",
       "      <th>48735</th>\n",
       "      <td>456169</td>\n",
       "      <td>0.062141</td>\n",
       "    </tr>\n",
       "    <tr>\n",
       "      <th>48736</th>\n",
       "      <td>456170</td>\n",
       "      <td>0.062141</td>\n",
       "    </tr>\n",
       "    <tr>\n",
       "      <th>48737</th>\n",
       "      <td>456189</td>\n",
       "      <td>0.104816</td>\n",
       "    </tr>\n",
       "    <tr>\n",
       "      <th>48738</th>\n",
       "      <td>456202</td>\n",
       "      <td>0.081912</td>\n",
       "    </tr>\n",
       "    <tr>\n",
       "      <th>48739</th>\n",
       "      <td>456221</td>\n",
       "      <td>0.062141</td>\n",
       "    </tr>\n",
       "    <tr>\n",
       "      <th>48740</th>\n",
       "      <td>456222</td>\n",
       "      <td>0.108358</td>\n",
       "    </tr>\n",
       "    <tr>\n",
       "      <th>48741</th>\n",
       "      <td>456223</td>\n",
       "      <td>0.081912</td>\n",
       "    </tr>\n",
       "    <tr>\n",
       "      <th>48742</th>\n",
       "      <td>456224</td>\n",
       "      <td>0.062141</td>\n",
       "    </tr>\n",
       "    <tr>\n",
       "      <th>48743</th>\n",
       "      <td>456250</td>\n",
       "      <td>0.062141</td>\n",
       "    </tr>\n",
       "  </tbody>\n",
       "</table>\n",
       "<p>48744 rows × 2 columns</p>\n",
       "</div>"
      ],
      "text/plain": [
       "       SK_ID_CURR    TARGET\n",
       "0          100001  0.062141\n",
       "1          100005  0.181338\n",
       "2          100013  0.112028\n",
       "3          100028  0.108358\n",
       "4          100038  0.081912\n",
       "5          100042  0.112028\n",
       "6          100057  0.064334\n",
       "7          100065  0.062141\n",
       "8          100066  0.062141\n",
       "9          100067  0.096649\n",
       "10         100074  0.062141\n",
       "11         100090  0.104794\n",
       "12         100091  0.062141\n",
       "13         100092  0.062141\n",
       "14         100106  0.104794\n",
       "15         100107  0.104794\n",
       "16         100109  0.104794\n",
       "17         100117  0.062141\n",
       "18         100128  0.064334\n",
       "19         100141  0.104794\n",
       "20         100150  0.092572\n",
       "21         100168  0.062141\n",
       "22         100169  0.062141\n",
       "23         100170  0.111544\n",
       "24         100171  0.112028\n",
       "25         100172  0.104794\n",
       "26         100184  0.062141\n",
       "27         100187  0.062141\n",
       "28         100212  0.062141\n",
       "29         100222  0.062141\n",
       "...           ...       ...\n",
       "48714      455963  0.064334\n",
       "48715      455965  0.062141\n",
       "48716      456007  0.112028\n",
       "48717      456008  0.062141\n",
       "48718      456009  0.062141\n",
       "48719      456010  0.096649\n",
       "48720      456011  0.096649\n",
       "48721      456013  0.129239\n",
       "48722      456028  0.112028\n",
       "48723      456058  0.081912\n",
       "48724      456111  0.111544\n",
       "48725      456114  0.086256\n",
       "48726      456115  0.064334\n",
       "48727      456116  0.064334\n",
       "48728      456119  0.062141\n",
       "48729      456120  0.108358\n",
       "48730      456122  0.098536\n",
       "48731      456123  0.062141\n",
       "48732      456166  0.092572\n",
       "48733      456167  0.092572\n",
       "48734      456168  0.104794\n",
       "48735      456169  0.062141\n",
       "48736      456170  0.062141\n",
       "48737      456189  0.104816\n",
       "48738      456202  0.081912\n",
       "48739      456221  0.062141\n",
       "48740      456222  0.108358\n",
       "48741      456223  0.081912\n",
       "48742      456224  0.062141\n",
       "48743      456250  0.062141\n",
       "\n",
       "[48744 rows x 2 columns]"
      ]
     },
     "execution_count": 129,
     "metadata": {},
     "output_type": "execute_result"
    }
   ],
   "source": [
    "res"
   ]
  },
  {
   "cell_type": "code",
   "execution_count": 10,
   "metadata": {
    "collapsed": true
   },
   "outputs": [],
   "source": [
    "from sklearn.ensemble import GradientBoostingClassifier\n",
    "regr_1 = GradientBoostingClassifier()\n",
    "regr_1.fit(train2[factors], train2['TARGET'])\n",
    "y_ = regr_1.predict(test2[factors])\n",
    "y_proba = regr_1.predict_proba(test2[factors])"
   ]
  },
  {
   "cell_type": "code",
   "execution_count": 21,
   "metadata": {
    "collapsed": false
   },
   "outputs": [
    {
     "name": "stdout",
     "output_type": "stream",
     "text": [
      "AUC: 0.572103546022\n"
     ]
    }
   ],
   "source": [
    "y_proba = regr_1.predict_proba(test2[factors])\n",
    "print(\"AUC:\",sk.metrics.roc_auc_score(test1['TARGET'],y_proba[0:,1]))"
   ]
  },
  {
   "cell_type": "code",
   "execution_count": null,
   "metadata": {
    "collapsed": true
   },
   "outputs": [],
   "source": []
  }
 ],
 "metadata": {
  "kernelspec": {
   "display_name": "Python 3",
   "language": "python",
   "name": "python3"
  },
  "language_info": {
   "codemirror_mode": {
    "name": "ipython",
    "version": 3
   },
   "file_extension": ".py",
   "mimetype": "text/x-python",
   "name": "python",
   "nbconvert_exporter": "python",
   "pygments_lexer": "ipython3",
   "version": "3.5.1"
  }
 },
 "nbformat": 4,
 "nbformat_minor": 0
}
