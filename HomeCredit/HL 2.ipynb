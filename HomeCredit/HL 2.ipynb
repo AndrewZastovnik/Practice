{
 "cells": [
  {
   "cell_type": "markdown",
   "metadata": {},
   "source": [
    "# Home Loans Practice 2"
   ]
  },
  {
   "cell_type": "markdown",
   "metadata": {},
   "source": [
    "Some things to bear in mind from the last time I was working on this.\n",
    "\n",
    "1. The classes are very uneven where most people don't defualt so when running a classifier the best prediction is that no one defaults at least for a very simple model. I would consider fixing this but the end result for this compition is to provide the probability of the target variable. So I would think I wouldn't need to account for this since accounting for this would hurt my accuracy of predicting the probability of the target. But it is something to think about.\n",
    "\n",
    "2. I only looked at 2 of the columns from the training file there are many more columns in this file as well as other other files I could be using. Maybe I could set up a SQL server so I can more easily combine these files and get some experience working with SQL.\n",
    "\n",
    "3. I only used tree models and gradient boosting. I really don't know how to optimize the gradient boosting algorithm so I might look into how that is done. Maybe try other models."
   ]
  },
  {
   "cell_type": "code",
   "execution_count": 1,
   "metadata": {
    "collapsed": true
   },
   "outputs": [],
   "source": [
    "%matplotlib inline\n",
    "\n",
    "import pandas as pd\n",
    "import numpy as np\n",
    "import matplotlib.pyplot as plt\n",
    "import sklearn as sk"
   ]
  },
  {
   "cell_type": "code",
   "execution_count": 2,
   "metadata": {
    "collapsed": true
   },
   "outputs": [],
   "source": [
    "test = pd.read_csv(\"C:\\\\Users\\\\Andrew\\\\Documents\\\\Practice\\\\Home Loans\\\\application_test.csv\")\n",
    "train = pd.read_csv(\"C:\\\\Users\\\\Andrew\\\\Documents\\\\Practice\\\\Home Loans\\\\application_train.csv\")\n",
    "bureau = pd.read_csv(\"C:\\\\Users\\\\Andrew\\\\Documents\\\\Practice\\\\Home Loans\\\\bureau.csv\")\n",
    "bureau_balance = pd.read_csv(\"C:\\\\Users\\\\Andrew\\\\Documents\\\\Practice\\\\Home Loans\\\\bureau_balance.csv\")\n",
    "POS_CASH_balance = pd.read_csv(\"C:\\\\Users\\\\Andrew\\\\Documents\\\\Practice\\\\Home Loans\\\\POS_CASH_balance.csv\")\n",
    "credit_card_balance = pd.read_csv(\"C:\\\\Users\\\\Andrew\\\\Documents\\\\Practice\\\\Home Loans\\\\credit_card_balance.csv\")\n",
    "previous_application = pd.read_csv(\"C:\\\\Users\\\\Andrew\\\\Documents\\\\Practice\\\\Home Loans\\\\previous_application.csv\")\n",
    "installments_payments = pd.read_csv(\"C:\\\\Users\\\\Andrew\\\\Documents\\\\Practice\\\\Home Loans\\\\installments_payments.csv\")"
   ]
  },
  {
   "cell_type": "code",
   "execution_count": 3,
   "metadata": {
    "collapsed": true
   },
   "outputs": [],
   "source": [
    "def hot_fix(column):\n",
    "        names = list(column[1])\n",
    "        column = column[0]\n",
    "        u = np.unique(column)\n",
    "        if -1 in u:\n",
    "            names = [\"nan\"] + names\n",
    "        res = np.zeros((column.shape[0],u.shape[0]))\n",
    "        for i in range(u.shape[0]):\n",
    "            res[0:,i] = column == u[i]\n",
    "        res = pd.DataFrame(res)\n",
    "        res.columns = names\n",
    "        return res"
   ]
  },
  {
   "cell_type": "markdown",
   "metadata": {},
   "source": [
    "First I want to try selecting the best parameters for my simple tree model in the first part.\n",
    "To do this I will use cross validation and the area under the ROC curve. I think I will make my own cross validation model just because I want to make sure I know what is going on."
   ]
  },
  {
   "cell_type": "code",
   "execution_count": 4,
   "metadata": {
    "collapsed": false
   },
   "outputs": [],
   "source": [
    "def find_index(current_cross,size,crosses):\n",
    "    # Function that divides a range of numbers into sections\n",
    "    train = np.arange(size)\n",
    "    start = current_cross*int(round(size/crosses,0))\n",
    "    end = start + int(round(size/crosses,0))\n",
    "    # I feel like this should be size -1 but I haven't run into any problems\n",
    "    if end > size:\n",
    "        end = size\n",
    "    test = train[start:end]\n",
    "    # Making this a set finding the difference and making it a list in probably dumb\n",
    "    train = train[list(set(train).difference(set(test)))]\n",
    "    return train,test\n",
    "\n",
    "def cross_validation(train,factors,model,crosses=6):\n",
    "    mask = np.random.permutation(train.shape[0])\n",
    "    res = 0 \n",
    "    for i in range(crosses):   \n",
    "        train_index,test_index = find_index(i,train.shape[0],crosses)\n",
    "        # I'm not sure I really need to copy here\n",
    "        train1 = train.iloc[mask[train_index]].copy()\n",
    "        test1 = train.iloc[mask[test_index]].copy()\n",
    "        model.fit(train1[factors], train1['TARGET'])\n",
    "        y_prob = model.predict_proba(test1[factors])\n",
    "        res = res + sk.metrics.roc_auc_score(test1['TARGET'],y_prob[0:,1])\n",
    "    return res/crosses"
   ]
  },
  {
   "cell_type": "code",
   "execution_count": 5,
   "metadata": {
    "collapsed": false
   },
   "outputs": [],
   "source": [
    "from sklearn.tree import DecisionTreeClassifier\n",
    "\n",
    "# Split occupation type into indicator variables\n",
    "oc_type = pd.DataFrame(hot_fix(train['OCCUPATION_TYPE'].factorize()))\n",
    "train1 = pd.concat([train.reset_index(drop=True),oc_type],axis =1)\n",
    "factors = ['CNT_CHILDREN'] + list(oc_type.columns)"
   ]
  },
  {
   "cell_type": "markdown",
   "metadata": {},
   "source": [
    "I made a mistake and left the max depth the same. Thought it was a little interesting so I left it"
   ]
  },
  {
   "cell_type": "code",
   "execution_count": 6,
   "metadata": {
    "collapsed": false
   },
   "outputs": [],
   "source": [
    "res = np.zeros(10)\n",
    "for i in range(10):\n",
    "    tree_model = DecisionTreeClassifier(max_depth=3)\n",
    "    res[i] = cross_validation(train1,factors,tree_model)"
   ]
  },
  {
   "cell_type": "code",
   "execution_count": 7,
   "metadata": {
    "collapsed": false
   },
   "outputs": [
    {
     "data": {
      "image/png": "[encoded data removed]",
      "text/plain": [
       "<matplotlib.figure.Figure at 0x1df1428ea90>"
      ]
     },
     "metadata": {},
     "output_type": "display_data"
    }
   ],
   "source": [
    "plt.figure()\n",
    "plt.plot(np.arange(10),res)\n",
    "plt.show()"
   ]
  },
  {
   "cell_type": "code",
   "execution_count": 8,
   "metadata": {
    "collapsed": false
   },
   "outputs": [],
   "source": [
    "res = np.zeros(20)\n",
    "for i in range(20):\n",
    "    tree_model = DecisionTreeClassifier(max_depth=i+1)\n",
    "    res[i] = cross_validation(train1,factors,tree_model)"
   ]
  },
  {
   "cell_type": "code",
   "execution_count": 13,
   "metadata": {
    "collapsed": false
   },
   "outputs": [
    {
     "data": {
      "image/png": "[encoded data removed]",
      "text/plain": [
       "<matplotlib.figure.Figure at 0x1df151f9518>"
      ]
     },
     "metadata": {},
     "output_type": "display_data"
    }
   ],
   "source": [
    "plt.figure()\n",
    "plt.plot(np.arange(20)+1,res)\n",
    "plt.show()"
   ]
  },
  {
   "cell_type": "markdown",
   "metadata": {},
   "source": [
    "As you can see the AUC really levels off with trees at a max depth around 10."
   ]
  },
  {
   "cell_type": "code",
   "execution_count": 10,
   "metadata": {
    "collapsed": false
   },
   "outputs": [
    {
     "data": {
      "text/plain": [
       "0.57907290377732934"
      ]
     },
     "execution_count": 10,
     "metadata": {},
     "output_type": "execute_result"
    }
   ],
   "source": [
    "tree_model = DecisionTreeClassifier(max_depth=10,criterion = \"entropy\")\n",
    "cross_validation(train1,factors,tree_model)"
   ]
  },
  {
   "cell_type": "markdown",
   "metadata": {},
   "source": [
    "Well thats about all the options for a tree classifier that I wanted to test. Let's move on to the gradiant boosting algorithm. So there area a lot more parameters to test here but I think the main ones are the learning rate and n_estimators."
   ]
  },
  {
   "cell_type": "code",
   "execution_count": 12,
   "metadata": {
    "collapsed": true
   },
   "outputs": [],
   "source": [
    "i=0\n",
    "boost_model = GradientBoostingClassifier(learning_rate=(i+1)/20)\n",
    "res[i] = cross_validation(train1,factors,boost_model)"
   ]
  },
  {
   "cell_type": "code",
   "execution_count": 14,
   "metadata": {
    "collapsed": false
   },
   "outputs": [],
   "source": [
    "from sklearn.ensemble import GradientBoostingClassifier\n",
    "res = np.zeros(20)\n",
    "for i in range(20):\n",
    "    boost_model = GradientBoostingClassifier(learning_rate=(i+1)/20)\n",
    "    res[i] = cross_validation(train1,factors,boost_model)"
   ]
  },
  {
   "cell_type": "code",
   "execution_count": 15,
   "metadata": {
    "collapsed": false
   },
   "outputs": [
    {
     "data": {
      "image/png": "[encoded data removed]",
      "text/plain": [
       "<matplotlib.figure.Figure at 0x1df8a160c50>"
      ]
     },
     "metadata": {},
     "output_type": "display_data"
    }
   ],
   "source": [
    "plt.figure()\n",
    "plt.plot(np.arange(20)+1,res)\n",
    "plt.show()"
   ]
  },
  {
   "cell_type": "markdown",
   "metadata": {
    "collapsed": true
   },
   "source": [
    "The best learning rate seems to be around .35. Though there really isn't that strong of a pattern in this."
   ]
  }
 ],
 "metadata": {
  "kernelspec": {
   "display_name": "Python 3",
   "language": "python",
   "name": "python3"
  },
  "language_info": {
   "codemirror_mode": {
    "name": "ipython",
    "version": 3
   },
   "file_extension": ".py",
   "mimetype": "text/x-python",
   "name": "python",
   "nbconvert_exporter": "python",
   "pygments_lexer": "ipython3",
   "version": "3.5.1"
  }
 },
 "nbformat": 4,
 "nbformat_minor": 0
}
